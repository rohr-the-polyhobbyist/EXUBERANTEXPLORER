{
 "cells": [
  {
   "cell_type": "code",
   "execution_count": null,
   "metadata": {},
   "outputs": [],
   "source": [
    "import json,os,sys,gzip\n",
    "if os.path.abspath(\"../EXUBERANTEXPLORER\") not in sys.path:\n",
    "    sys.path.append(\"../EXUBERANTEXPLORER\")\n",
    "\n",
    "from EXUBERANTEXPLORER.custom_functions import get_bulk_data_info, make_api_request\n",
    "from EXUBERANTEXPLORER.constants import HEADERS, TIMEOUT"
   ]
  },
  {
   "cell_type": "code",
   "execution_count": null,
   "metadata": {},
   "outputs": [],
   "source": [
    "dpath = 'C:\\\\Users\\\\roryf\\\\Code\\\\EXUBERANTEXPLORER\\\\data\\\\cache\\\\bulk-data.json'\n",
    "bulk_data = json.loads(open(dpath).read())"
   ]
  },
  {
   "cell_type": "code",
   "execution_count": null,
   "metadata": {},
   "outputs": [],
   "source": [
    "bulk_data['data'][0]['download_uri']"
   ]
  },
  {
   "cell_type": "code",
   "execution_count": null,
   "metadata": {},
   "outputs": [],
   "source": [
    "bulk_info = get_bulk_data_info()\n",
    "bulk_info"
   ]
  },
  {
   "cell_type": "code",
   "execution_count": null,
   "metadata": {},
   "outputs": [],
   "source": [
    "download_uri = bulk_info['download_uri']\n",
    "response = make_api_request(download_uri,headers=HEADERS, timeout=TIMEOUT)"
   ]
  },
  {
   "cell_type": "code",
   "execution_count": null,
   "metadata": {},
   "outputs": [],
   "source": []
  },
  {
   "cell_type": "code",
   "execution_count": null,
   "metadata": {},
   "outputs": [],
   "source": [
    "if response.headers.get('Content-Encoding') == 'gzip':\n",
    "    with open('C:\\\\Users\\\\roryf\\\\Code\\\\EXUBERANTEXPLORER\\\\data\\\\cache\\\\bulk-data.json.gz','wb') as f:\n",
    "        f.write(response.content)"
   ]
  },
  {
   "cell_type": "code",
   "execution_count": null,
   "metadata": {},
   "outputs": [],
   "source": [
    " with open(BULK_METADATA_PATH, \"w+\", encoding=\"utf-8\") as f:\n",
    "                json.dump(response.json(), f)\n",
    "                print(\"Bulk data saved to file.\")\n",
    "                return response.json()"
   ]
  }
 ],
 "metadata": {
  "kernelspec": {
   "display_name": ".venv",
   "language": "python",
   "name": "python3"
  },
  "language_info": {
   "codemirror_mode": {
    "name": "ipython",
    "version": 3
   },
   "file_extension": ".py",
   "mimetype": "text/x-python",
   "name": "python",
   "nbconvert_exporter": "python",
   "pygments_lexer": "ipython3",
   "version": "3.12.9"
  }
 },
 "nbformat": 4,
 "nbformat_minor": 2
}
