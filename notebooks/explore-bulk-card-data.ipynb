{
 "cells": [
  {
   "cell_type": "markdown",
   "metadata": {},
   "source": [
    "# Bulk Card data EDA"
   ]
  },
  {
   "cell_type": "code",
   "execution_count": null,
   "metadata": {},
   "outputs": [],
   "source": [
    "import json,os,sys,gzip\n",
    "import pandas as pd\n",
    "from tithe_extractor.scryfall_api import make_api_request\n",
    "from tithe_extractor.constants import HEADERS, TIMEOUT\n",
    "dpath =  # write your own path here - metadata path\n",
    "cpath = # write your own path here - card path"
   ]
  },
  {
   "cell_type": "markdown",
   "metadata": {},
   "source": [
    "## Download card data (if you have metadata)"
   ]
  },
  {
   "cell_type": "code",
   "execution_count": null,
   "metadata": {},
   "outputs": [],
   "source": [
    "# Get the bulk card data path from the metadata\n",
    "\n",
    "metadata = json.loads(open(dpath).read())\n",
    "download_uri = metadata['data'][0]['download_uri']\n",
    "print(download_uri)"
   ]
  },
  {
   "cell_type": "code",
   "execution_count": null,
   "metadata": {},
   "outputs": [],
   "source": [
    "# Download the bulk card data\n",
    "response = make_api_request(download_uri,headers=HEADERS, timeout=TIMEOUT)"
   ]
  },
  {
   "cell_type": "code",
   "execution_count": null,
   "metadata": {},
   "outputs": [],
   "source": [
    "# Look at one of the json objects in the response\n",
    "response.json()[0]"
   ]
  },
  {
   "cell_type": "code",
   "execution_count": null,
   "metadata": {},
   "outputs": [],
   "source": [
    "# Save it to a file (uncompressed - assuming it's not too big)\n",
    "with open(dpath, \"w+\", encoding=\"utf-8\") as f:\n",
    "        for item in response.json():\n",
    "            json.dump(item, f)\n",
    "            f.write(\"\\n\")\n",
    "        print(\"Bulk data saved to file.\")"
   ]
  },
  {
   "cell_type": "markdown",
   "metadata": {},
   "source": [
    "# Load the card data"
   ]
  },
  {
   "cell_type": "code",
   "execution_count": null,
   "metadata": {},
   "outputs": [],
   "source": [
    "# create a list to store extracted json objects\n",
    "extracted_objs = []\n",
    "err_count = 0\n",
    "line_count = 0\n",
    "# open the file in read mode\n",
    "with open(dpath, 'rt') as file:\n",
    "    # Iterate over each line\n",
    "    for line in file:\n",
    "        # Parse the JSON object from the current line\n",
    "        try:\n",
    "            json_obj = json.loads(line)\n",
    "            extracted_objs.append(json_obj)\n",
    "            line_count += 1\n",
    "        except json.JSONDecodeError:\n",
    "            print('Line is not a valid JSON object')\n",
    "            err_count += 1\n",
    "print(f\"Extracted {line_count} JSON objects with {err_count} errors.\")\n"
   ]
  },
  {
   "cell_type": "markdown",
   "metadata": {},
   "source": [
    "## EDA"
   ]
  },
  {
   "cell_type": "code",
   "execution_count": null,
   "metadata": {},
   "outputs": [],
   "source": [
    "extracted_objs[0]"
   ]
  },
  {
   "cell_type": "code",
   "execution_count": null,
   "metadata": {},
   "outputs": [],
   "source": [
    "# Now is the time to start thinking about modeling the data. We can start by examining the keys of the first object in the list.\n",
    "x = [key for key in extracted_objs[0].keys()]\n",
    "len(x)"
   ]
  },
  {
   "cell_type": "code",
   "execution_count": null,
   "metadata": {},
   "outputs": [],
   "source": [
    "# let's print the keys in a readable way\n",
    "for i in range(0, len(x), 5):\n",
    "    print(x[i:i+5])"
   ]
  },
  {
   "cell_type": "code",
   "execution_count": null,
   "metadata": {},
   "outputs": [],
   "source": [
    "# Some keys of interest\n",
    "keys_of_interest = [\n",
    "    'id',\n",
    "    'oracle_id',\n",
    "    'name',\n",
    "    'mana_cost',\n",
    "    'cmc',\n",
    "    'type_line',\n",
    "    'oracle_text',\n",
    "    'colors',\n",
    "    'color_identity',\n",
    "    'set',\n",
    "    'rarity',\n",
    "    'power',\n",
    "    'toughness',\n",
    "    'loyalty',\n",
    "    'keywords',\n",
    "    'legalities',\n",
    "    'game_changer',\n",
    "    'edhrec_rank',\n",
    "    'prices',\n",
    "    'rulings_uri',\n",
    "    'related_uris',\n",
    "    'purchase_uris',\n",
    "    'image_uris'\n",
    "]"
   ]
  },
  {
   "cell_type": "code",
   "execution_count": null,
   "metadata": {},
   "outputs": [],
   "source": [
    "# Create a pandas DataFrame from the extracted objects using keys of interest\n",
    "df = pd.DataFrame(extracted_objs)[keys_of_interest]\n",
    "df.head()"
   ]
  },
  {
   "cell_type": "code",
   "execution_count": null,
   "metadata": {},
   "outputs": [],
   "source": [
    "df.dtypes"
   ]
  },
  {
   "cell_type": "code",
   "execution_count": null,
   "metadata": {},
   "outputs": [],
   "source": [
    "# Cast the object columns to string\n",
    "for col in df.select_dtypes(include='object').columns:\n",
    "    df[col] = df[col].astype(str)\n",
    "df.dtypes"
   ]
  },
  {
   "cell_type": "code",
   "execution_count": null,
   "metadata": {},
   "outputs": [],
   "source": [
    "df.head()"
   ]
  },
  {
   "cell_type": "code",
   "execution_count": null,
   "metadata": {},
   "outputs": [],
   "source": [
    "# Save out this dataframe to a csv file\n",
    "df.to_csv(cpath, index=False)"
   ]
  },
  {
   "cell_type": "code",
   "execution_count": null,
   "metadata": {},
   "outputs": [],
   "source": [
    "df2 = pd.read_csv(cpath)\n",
    "df2.head()"
   ]
  },
  {
   "cell_type": "code",
   "execution_count": null,
   "metadata": {},
   "outputs": [],
   "source": [
    "# Check for mismatches between the original and reloaded dataframes\n",
    "mismatched = df[df != df2]\n",
    "# Look at the mismatches and see if you can account for them all before relying on the reloaded data."
   ]
  },
  {
   "cell_type": "code",
   "execution_count": null,
   "metadata": {},
   "outputs": [],
   "source": [
    "df['color_identity']"
   ]
  },
  {
   "cell_type": "code",
   "execution_count": null,
   "metadata": {},
   "outputs": [],
   "source": [
    "df2['color_identity'].astype(str).head()"
   ]
  },
  {
   "cell_type": "code",
   "execution_count": null,
   "metadata": {},
   "outputs": [],
   "source": [
    "df['mana_cost']"
   ]
  },
  {
   "cell_type": "code",
   "execution_count": null,
   "metadata": {},
   "outputs": [],
   "source": [
    "df2['mana_cost']"
   ]
  },
  {
   "cell_type": "code",
   "execution_count": null,
   "metadata": {},
   "outputs": [],
   "source": [
    "df2.isna().sum()"
   ]
  },
  {
   "cell_type": "code",
   "execution_count": null,
   "metadata": {},
   "outputs": [],
   "source": [
    "# In df we have 'nan' whereas df2 has NaN. We can replace 'nan' with panda's version of NA or NaN to ensure they count as the same thing.\n",
    "mismatched.replace({'nan',pd.NA}, inplace=True) # Replace 'nan' with pd.NA"
   ]
  }
 ],
 "metadata": {
  "kernelspec": {
   "display_name": ".venv",
   "language": "python",
   "name": "python3"
  },
  "language_info": {
   "codemirror_mode": {
    "name": "ipython",
    "version": 3
   },
   "file_extension": ".py",
   "mimetype": "text/x-python",
   "name": "python",
   "nbconvert_exporter": "python",
   "pygments_lexer": "ipython3",
   "version": "3.12.9"
  }
 },
 "nbformat": 4,
 "nbformat_minor": 2
}
